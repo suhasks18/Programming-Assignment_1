{
 "cells": [
  {
   "cell_type": "code",
   "execution_count": 1,
   "id": "f99471b5",
   "metadata": {},
   "outputs": [
    {
     "name": "stdout",
     "output_type": "stream",
     "text": [
      "Hello Python\n"
     ]
    }
   ],
   "source": [
    "# 1 - print \"Hello Python\"\n",
    "print(\"Hello Python\")"
   ]
  },
  {
   "cell_type": "code",
   "execution_count": 3,
   "id": "b1a5beee",
   "metadata": {},
   "outputs": [
    {
     "name": "stdout",
     "output_type": "stream",
     "text": [
      "90\n"
     ]
    }
   ],
   "source": [
    "# 2 - do arithmetical operations addition and division\n",
    "# Addition Operator\n",
    "a = 54\n",
    "b = 36\n",
    "res = a + b\n",
    "print(res)"
   ]
  },
  {
   "cell_type": "code",
   "execution_count": 4,
   "id": "ddab36c6",
   "metadata": {},
   "outputs": [
    {
     "name": "stdout",
     "output_type": "stream",
     "text": [
      "18\n"
     ]
    }
   ],
   "source": [
    "# Subtraction Operator\n",
    "res1 = a - b\n",
    "print(res1)"
   ]
  },
  {
   "cell_type": "code",
   "execution_count": 5,
   "id": "e9d2a96c",
   "metadata": {},
   "outputs": [
    {
     "name": "stdout",
     "output_type": "stream",
     "text": [
      "1944\n"
     ]
    }
   ],
   "source": [
    "# Multiplication Operator\n",
    "res2 = a * b\n",
    "print(res2)"
   ]
  },
  {
   "cell_type": "code",
   "execution_count": 6,
   "id": "fc52c8e2",
   "metadata": {},
   "outputs": [
    {
     "name": "stdout",
     "output_type": "stream",
     "text": [
      "1.5\n"
     ]
    }
   ],
   "source": [
    "# Division Operator \n",
    "res3 = a / b\n",
    "print(res3)"
   ]
  },
  {
   "cell_type": "code",
   "execution_count": 7,
   "id": "d87b605e",
   "metadata": {},
   "outputs": [
    {
     "name": "stdout",
     "output_type": "stream",
     "text": [
      "18\n"
     ]
    }
   ],
   "source": [
    "# Modulus Operator\n",
    "res4 = a % b\n",
    "print(res4)"
   ]
  },
  {
   "cell_type": "code",
   "execution_count": 8,
   "id": "f699acdf",
   "metadata": {},
   "outputs": [
    {
     "name": "stdout",
     "output_type": "stream",
     "text": [
      "232367482936623516730287712543386283362359123728764547834576896\n"
     ]
    }
   ],
   "source": [
    "#  Exponentiation Operator\n",
    "res5 = a ** b\n",
    "print(res5)"
   ]
  },
  {
   "cell_type": "code",
   "execution_count": 9,
   "id": "301c241a",
   "metadata": {},
   "outputs": [
    {
     "name": "stdout",
     "output_type": "stream",
     "text": [
      "1\n"
     ]
    }
   ],
   "source": [
    "# Floor division\n",
    "res6 = a // b\n",
    "print(res6)"
   ]
  },
  {
   "cell_type": "code",
   "execution_count": 10,
   "id": "747b8a90",
   "metadata": {},
   "outputs": [
    {
     "name": "stdout",
     "output_type": "stream",
     "text": [
      "enter base: 3\n",
      "enter height: 4\n",
      "6.0\n"
     ]
    }
   ],
   "source": [
    "# 3 - area of a triangle\n",
    "x = int(input(\"enter base: \"))\n",
    "y = int(input(\"enter height: \"))\n",
    "area = (y*x)/2\n",
    "print(area)"
   ]
  },
  {
   "cell_type": "code",
   "execution_count": 15,
   "id": "df3ba163",
   "metadata": {},
   "outputs": [
    {
     "name": "stdout",
     "output_type": "stream",
     "text": [
      "enter 1st number: 4\n",
      "enter 2nd number: 6\n",
      "Value of 1st number is 6\n",
      "Value of 2nd number is 4\n"
     ]
    }
   ],
   "source": [
    "# 4 - Swap two variables\n",
    "num1 = int(input(\"enter 1st number: \"))\n",
    "num2 = int(input(\"enter 2nd number: \"))\n",
    "x = num1\n",
    "num1 = num2\n",
    "num2 = x\n",
    "print(\"Value of 1st number is %d\" %num1)\n",
    "print(\"Value of 2nd number is %d\" %num2)"
   ]
  },
  {
   "cell_type": "code",
   "execution_count": 18,
   "id": "a8a8f58b",
   "metadata": {},
   "outputs": [
    {
     "name": "stdout",
     "output_type": "stream",
     "text": [
      "6\n"
     ]
    }
   ],
   "source": [
    "# 5 - Python program to generate a random number\n",
    "import random\n",
    "list = [1,2,3,4,5,6,7,8,9]\n",
    "print(random.choice(list))"
   ]
  },
  {
   "cell_type": "code",
   "execution_count": null,
   "id": "1c3b8aec",
   "metadata": {},
   "outputs": [],
   "source": []
  }
 ],
 "metadata": {
  "kernelspec": {
   "display_name": "Python 3 (ipykernel)",
   "language": "python",
   "name": "python3"
  },
  "language_info": {
   "codemirror_mode": {
    "name": "ipython",
    "version": 3
   },
   "file_extension": ".py",
   "mimetype": "text/x-python",
   "name": "python",
   "nbconvert_exporter": "python",
   "pygments_lexer": "ipython3",
   "version": "3.9.12"
  }
 },
 "nbformat": 4,
 "nbformat_minor": 5
}
